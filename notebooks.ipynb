{
 "cells": [
  {
   "cell_type": "markdown",
   "metadata": {},
   "source": [
    "# Data pipeline from Spotify\n",
    "Se realiza un seguimiento de las canciones de spotify escuhcadas desde el día de ayer"
   ]
  },
  {
   "cell_type": "markdown",
   "metadata": {},
   "source": [
    "## Modulos y paquetes"
   ]
  },
  {
   "cell_type": "code",
   "execution_count": 3,
   "metadata": {},
   "outputs": [],
   "source": [
    "# Importaciones\n",
    "import requests\n",
    "import datetime\n",
    "import pandas as pd\n",
    "from sqlalchemy import Column, String, Integer, DateTime, Date, create_engine\n",
    "from sqlalchemy.orm import declarative_base, sessionmaker\n",
    "import pytz # to time zone"
   ]
  },
  {
   "cell_type": "markdown",
   "metadata": {},
   "source": [
    "## Constantes"
   ]
  },
  {
   "cell_type": "code",
   "execution_count": 2,
   "metadata": {},
   "outputs": [],
   "source": [
    "# Constants\n",
    "DATA_BASE_LOCATION = \"sqlite:///my_tracks.db\"\n",
    "USER_ID = 'guido.simoca'\n",
    "TOKEN = 'token de seguridad' # https://developer.spotify.com/console/get-recently-played/"
   ]
  },
  {
   "cell_type": "markdown",
   "metadata": {},
   "source": [
    "# Extraction"
   ]
  },
  {
   "cell_type": "markdown",
   "metadata": {},
   "source": [
    "## Configuraciones de requests"
   ]
  },
  {
   "cell_type": "code",
   "execution_count": 4,
   "metadata": {},
   "outputs": [],
   "source": [
    "# url \n",
    "url = \"https://api.spotify.com/v1/me/player/recently-played\"\n",
    "# header for the request acording to spotify\n",
    "headers = {\n",
    "    \"Accept\": \"application/json\",\n",
    "    \"Content-Type\": \"application/json\",\n",
    "    \"Authorization\": f\"Bearer {TOKEN}\"\n",
    "    }\n",
    "\n",
    "# Defining the datetime to track\n",
    "today = datetime.datetime.now()\n",
    "yesterday = today - datetime.timedelta(days = 1)\n",
    "yesterday_unix = int(yesterday.timestamp())*1000 # To convert in unix tamstamp\n",
    "# query\n",
    "query = {'limit': 50, 'after': yesterday_unix}\n",
    "\n",
    "# Requests\n",
    "r = requests.get(url, params=query, headers=headers)\n",
    "\n",
    "# Data\n",
    "data = r.json()"
   ]
  },
  {
   "cell_type": "markdown",
   "metadata": {},
   "source": [
    "## Obtencion de los datos"
   ]
  },
  {
   "cell_type": "code",
   "execution_count": 5,
   "metadata": {},
   "outputs": [],
   "source": [
    "# Fields\n",
    "played_at = [i['played_at'] for i in data['items']]\n",
    "timestamps = [i[:10] for i in played_at]\n",
    "artist_name = [i['track']['album']['artists'][0]['name'] for i in data['items']]\n",
    "song_name = [i['track']['name'] for i in data['items']]"
   ]
  },
  {
   "cell_type": "markdown",
   "metadata": {},
   "source": [
    "## Conversion a DataFrame"
   ]
  },
  {
   "cell_type": "code",
   "execution_count": 6,
   "metadata": {},
   "outputs": [
    {
     "data": {
      "text/html": [
       "<div>\n",
       "<style scoped>\n",
       "    .dataframe tbody tr th:only-of-type {\n",
       "        vertical-align: middle;\n",
       "    }\n",
       "\n",
       "    .dataframe tbody tr th {\n",
       "        vertical-align: top;\n",
       "    }\n",
       "\n",
       "    .dataframe thead th {\n",
       "        text-align: right;\n",
       "    }\n",
       "</style>\n",
       "<table border=\"1\" class=\"dataframe\">\n",
       "  <thead>\n",
       "    <tr style=\"text-align: right;\">\n",
       "      <th></th>\n",
       "      <th>played_at</th>\n",
       "      <th>timestamps</th>\n",
       "      <th>artist_name</th>\n",
       "      <th>song_name</th>\n",
       "    </tr>\n",
       "  </thead>\n",
       "  <tbody>\n",
       "    <tr>\n",
       "      <th>0</th>\n",
       "      <td>2022-11-07T12:11:29.074Z</td>\n",
       "      <td>2022-11-07</td>\n",
       "      <td>DJ Alex</td>\n",
       "      <td>TU AMOR | E7</td>\n",
       "    </tr>\n",
       "    <tr>\n",
       "      <th>1</th>\n",
       "      <td>2022-11-07T12:09:09.178Z</td>\n",
       "      <td>2022-11-07</td>\n",
       "      <td>Rusherking</td>\n",
       "      <td>Perfecta</td>\n",
       "    </tr>\n",
       "    <tr>\n",
       "      <th>2</th>\n",
       "      <td>2022-11-07T12:06:30.042Z</td>\n",
       "      <td>2022-11-07</td>\n",
       "      <td>Alan Gomez</td>\n",
       "      <td>CALLEJERO FINO | Mission 10</td>\n",
       "    </tr>\n",
       "    <tr>\n",
       "      <th>3</th>\n",
       "      <td>2022-11-07T12:03:44.002Z</td>\n",
       "      <td>2022-11-07</td>\n",
       "      <td>Rei</td>\n",
       "      <td>Tu Turrito</td>\n",
       "    </tr>\n",
       "    <tr>\n",
       "      <th>4</th>\n",
       "      <td>2022-11-07T12:00:07.130Z</td>\n",
       "      <td>2022-11-07</td>\n",
       "      <td>La Joaqui</td>\n",
       "      <td>Butakera</td>\n",
       "    </tr>\n",
       "  </tbody>\n",
       "</table>\n",
       "</div>"
      ],
      "text/plain": [
       "                  played_at  timestamps artist_name  \\\n",
       "0  2022-11-07T12:11:29.074Z  2022-11-07     DJ Alex   \n",
       "1  2022-11-07T12:09:09.178Z  2022-11-07  Rusherking   \n",
       "2  2022-11-07T12:06:30.042Z  2022-11-07  Alan Gomez   \n",
       "3  2022-11-07T12:03:44.002Z  2022-11-07         Rei   \n",
       "4  2022-11-07T12:00:07.130Z  2022-11-07   La Joaqui   \n",
       "\n",
       "                     song_name  \n",
       "0                 TU AMOR | E7  \n",
       "1                     Perfecta  \n",
       "2  CALLEJERO FINO | Mission 10  \n",
       "3                   Tu Turrito  \n",
       "4                     Butakera  "
      ]
     },
     "execution_count": 6,
     "metadata": {},
     "output_type": "execute_result"
    }
   ],
   "source": [
    "# Convert to dic\n",
    "song_dic = {\n",
    "    'played_at': played_at,\n",
    "    'timestamps': timestamps,\n",
    "    'artist_name': artist_name,\n",
    "    'song_name': song_name\n",
    "}\n",
    "\n",
    "# Convert to DataFrame\n",
    "song_df = pd.DataFrame(song_dic)\n",
    "song_df"
   ]
  },
  {
   "cell_type": "markdown",
   "metadata": {},
   "source": [
    "# Transformacion y Validacion"
   ]
  },
  {
   "cell_type": "code",
   "execution_count": 7,
   "metadata": {},
   "outputs": [],
   "source": [
    "# Validation of the dataset\n",
    "def check_if_valid_data(data: pd.DataFrame) -> bool:\n",
    "    # Check if the dataset is empty\n",
    "    if data.empty:\n",
    "        print('No song downloaded. Finishing excecution') # Empty datasets means that I dont hear any songs\n",
    "        return False # No means an error!\n",
    "\n",
    "    # Primary Key check (Duplicate check)\n",
    "    if not(data['played_at'].is_unique):\n",
    "        raise Exception(\"Primary Key check is violated\")\n",
    "    \n",
    "    # Null values check\n",
    "    if song_df.isnull().values.any():\n",
    "        raise Exception(\"There are some nulls values\")\n",
    "    \n",
    "    # Timestamp check\n",
    "    convert_to_datetime_date = lambda x: datetime.datetime.strptime(x[:10], \"%Y-%m-%d\").date()\n",
    "    day = song_df['played_at'].agg(convert_to_datetime_date)\n",
    "    if (day < yesterday.date()).any():\n",
    "        raise Exception(\"There is at least one song that is not from yesterday\")\n",
    "\n",
    "check_if_valid_data(song_df)"
   ]
  },
  {
   "cell_type": "markdown",
   "metadata": {},
   "source": [
    "# Carga de datas"
   ]
  },
  {
   "cell_type": "markdown",
   "metadata": {},
   "source": [
    "## Creacion de la tabla"
   ]
  },
  {
   "cell_type": "code",
   "execution_count": 8,
   "metadata": {},
   "outputs": [],
   "source": [
    "# Defining the class to inherit the class for create the table\n",
    "Base = declarative_base()\n",
    "\n",
    "# Defining the class to create the table\n",
    "class Played_list(Base):\n",
    "    __tablename__ = 'played_list'\n",
    "    id = Column(Integer(), primary_key = True, nullable = False, unique = True)\n",
    "    played_at = Column(DateTime(25),  nullable = False, unique = True)\n",
    "    timestamps = Column(Date(), nullable = False)\n",
    "    artist_name = Column(String(80), nullable = False)\n",
    "    song_name = Column(String(80), nullable = False)\n",
    "    date_created = Column(DateTime(), default = datetime.datetime.now(pytz.timezone('America/Argentina/Buenos_Aires')))\n",
    "\n",
    "    # To print\n",
    "    def __repr__(self):\n",
    "        \n",
    "        return f\"\"\"Song:\n",
    "        ID = {self.id}\n",
    "        played_at = {self.played_at}\n",
    "        timestamps = {self.timestamps}\n",
    "        artist_name = {self.artist_name}\n",
    "        song_name = {self.song_name}\n",
    "        date_created = {self.date_created}\"\"\""
   ]
  },
  {
   "cell_type": "code",
   "execution_count": 9,
   "metadata": {},
   "outputs": [
    {
     "data": {
      "text/plain": [
       "datetime.datetime(2022, 11, 7, 12, 11, 29)"
      ]
     },
     "execution_count": 9,
     "metadata": {},
     "output_type": "execute_result"
    }
   ],
   "source": [
    "# funtion to convert the date elements from the dataframe to datetime object\n",
    "def conver_played_at_to_datetime(date: str) -> object:\n",
    "    return datetime.datetime.strptime(date[:-5], \"%Y-%m-%dT%H:%M:%S\")\n",
    "\n",
    "conver_played_at_to_datetime(song_df['played_at'][0])"
   ]
  },
  {
   "cell_type": "code",
   "execution_count": 10,
   "metadata": {},
   "outputs": [
    {
     "data": {
      "text/plain": [
       "Song:\n",
       "        ID = None\n",
       "        played_at = 2022-11-07 12:11:29\n",
       "        timestamps = 2022-11-07\n",
       "        artist_name = DJ Alex\n",
       "        song_name = TU AMOR | E7\n",
       "        date_created = None"
      ]
     },
     "execution_count": 10,
     "metadata": {},
     "output_type": "execute_result"
    }
   ],
   "source": [
    "# Object for prototype\n",
    "song = Played_list(played_at = conver_played_at_to_datetime(song_df['played_at'][0]),\n",
    "                   timestamps = datetime.datetime.strptime(song_df['timestamps'][0],\"%Y-%m-%d\").date(),\n",
    "                   artist_name = song_df['artist_name'][0],\n",
    "                   song_name = song_df['song_name'][0],\n",
    ")\n",
    "\n",
    "song"
   ]
  },
  {
   "cell_type": "code",
   "execution_count": 11,
   "metadata": {},
   "outputs": [
    {
     "name": "stdout",
     "output_type": "stream",
     "text": [
      "2022-11-07 10:55:42,904 INFO sqlalchemy.engine.Engine BEGIN (implicit)\n",
      "2022-11-07 10:55:42,904 INFO sqlalchemy.engine.Engine PRAGMA main.table_info(\"played_list\")\n",
      "2022-11-07 10:55:42,905 INFO sqlalchemy.engine.Engine [raw sql] ()\n",
      "2022-11-07 10:55:42,908 INFO sqlalchemy.engine.Engine COMMIT\n"
     ]
    }
   ],
   "source": [
    "# Creating engine\n",
    "engine = create_engine(DATA_BASE_LOCATION, echo = True)\n",
    "\n",
    "# creating data base\n",
    "Base.metadata.create_all(engine)"
   ]
  },
  {
   "cell_type": "markdown",
   "metadata": {},
   "source": [
    "# Guardando los datos"
   ]
  },
  {
   "cell_type": "markdown",
   "metadata": {},
   "source": [
    "### Opcion 1\n",
    "- Directo de dataframe a data base\n",
    "- Se cargan todos los registros de una vez"
   ]
  },
  {
   "cell_type": "code",
   "execution_count": 12,
   "metadata": {},
   "outputs": [
    {
     "name": "stdout",
     "output_type": "stream",
     "text": [
      "2022-11-07 10:55:49,108 INFO sqlalchemy.engine.Engine PRAGMA main.table_info(\"played_list\")\n",
      "2022-11-07 10:55:49,109 INFO sqlalchemy.engine.Engine [raw sql] ()\n",
      "2022-11-07 10:55:49,118 INFO sqlalchemy.engine.Engine BEGIN (implicit)\n",
      "2022-11-07 10:55:49,121 INFO sqlalchemy.engine.Engine INSERT INTO played_list (played_at, timestamps, artist_name, song_name, date_created) VALUES (?, ?, ?, ?, ?), (?, ?, ?, ?, ?), (?, ?, ?, ?, ?), (?, ?, ?, ?, ?), (?, ?, ?, ?, ?)\n",
      "2022-11-07 10:55:49,122 INFO sqlalchemy.engine.Engine [no key 0.00127s] ('2022-11-07 12:11:29.000000', '2022-11-07', 'DJ Alex', 'TU AMOR | E7', '2022-11-07 10:55:49.100455', '2022-11-07 12:09:09.000000', '2022-11-07', 'Rusherking', 'Perfecta', '2022-11-07 10:55:49.100455', '2022-11-07 12:06:30.000000', '2022-11-07', 'Alan Gomez', 'CALLEJERO FINO | Mission 10', '2022-11-07 10:55:49.100455', '2022-11-07 12:03:44.000000', '2022-11-07', 'Rei', 'Tu Turrito', '2022-11-07 10:55:49.100455', '2022-11-07 12:00:07.000000', '2022-11-07', 'La Joaqui', 'Butakera', '2022-11-07 10:55:49.100455')\n",
      "2022-11-07 10:55:49,128 INFO sqlalchemy.engine.Engine COMMIT\n"
     ]
    },
    {
     "data": {
      "text/plain": [
       "5"
      ]
     },
     "execution_count": 12,
     "metadata": {},
     "output_type": "execute_result"
    }
   ],
   "source": [
    "# Con esta opcion no se carga la fecha de insercion, ya que esta se genera en el momento del add\n",
    "# Tiene mas sentido si la tabla no fue creada con anterioridad con ORM\n",
    "song_df2 = pd.DataFrame(song_dic)\n",
    "song_df2['played_at'] = song_df2['played_at'].agg(lambda x: conver_played_at_to_datetime(x))\n",
    "song_df2['timestamps'] = song_df2['timestamps'].agg(lambda x: datetime.datetime.strptime(x,\"%Y-%m-%d\").date())\n",
    "# Se debe agregar el tiempo de carga\n",
    "song_df2['date_created'] = datetime.datetime.now(pytz.timezone('America/Argentina/Buenos_Aires'))\n",
    "song_df2.to_sql('played_list',engine, index = False, if_exists = 'append', method = 'multi')"
   ]
  },
  {
   "cell_type": "markdown",
   "metadata": {},
   "source": [
    " ### Opcion 2\n",
    " - De dataframe a objeto y recien a db\n",
    " - Se carga registro por registro\n"
   ]
  },
  {
   "cell_type": "code",
   "execution_count": 17,
   "metadata": {},
   "outputs": [
    {
     "name": "stdout",
     "output_type": "stream",
     "text": [
      "['2022-11-07T12:11:29.074Z' '2022-11-07' 'DJ Alex' 'TU AMOR | E7']\n",
      "['2022-11-07T12:09:09.178Z' '2022-11-07' 'Rusherking' 'Perfecta']\n",
      "['2022-11-07T12:06:30.042Z' '2022-11-07' 'Alan Gomez'\n",
      " 'CALLEJERO FINO | Mission 10']\n",
      "['2022-11-07T12:03:44.002Z' '2022-11-07' 'Rei' 'Tu Turrito']\n",
      "['2022-11-07T12:00:07.130Z' '2022-11-07' 'La Joaqui' 'Butakera']\n",
      "2022-11-07 11:17:35,904 INFO sqlalchemy.engine.Engine BEGIN (implicit)\n",
      "2022-11-07 11:17:35,906 INFO sqlalchemy.engine.Engine INSERT INTO played_list (played_at, timestamps, artist_name, song_name, date_created) VALUES (?, ?, ?, ?, ?)\n",
      "2022-11-07 11:17:35,908 INFO sqlalchemy.engine.Engine [cached since 1277s ago] ('2022-11-07 12:11:29.000000', '2022-11-07', 'DJ Alex', 'TU AMOR | E7', '2022-11-07 10:55:36.774808')\n",
      "2022-11-07 11:17:35,915 INFO sqlalchemy.engine.Engine INSERT INTO played_list (played_at, timestamps, artist_name, song_name, date_created) VALUES (?, ?, ?, ?, ?)\n",
      "2022-11-07 11:17:35,916 INFO sqlalchemy.engine.Engine [cached since 1277s ago] ('2022-11-07 12:09:09.000000', '2022-11-07', 'Rusherking', 'Perfecta', '2022-11-07 10:55:36.774808')\n",
      "2022-11-07 11:17:35,918 INFO sqlalchemy.engine.Engine INSERT INTO played_list (played_at, timestamps, artist_name, song_name, date_created) VALUES (?, ?, ?, ?, ?)\n",
      "2022-11-07 11:17:35,919 INFO sqlalchemy.engine.Engine [cached since 1277s ago] ('2022-11-07 12:06:30.000000', '2022-11-07', 'Alan Gomez', 'CALLEJERO FINO | Mission 10', '2022-11-07 10:55:36.774808')\n",
      "2022-11-07 11:17:35,920 INFO sqlalchemy.engine.Engine INSERT INTO played_list (played_at, timestamps, artist_name, song_name, date_created) VALUES (?, ?, ?, ?, ?)\n",
      "2022-11-07 11:17:35,921 INFO sqlalchemy.engine.Engine [cached since 1277s ago] ('2022-11-07 12:03:44.000000', '2022-11-07', 'Rei', 'Tu Turrito', '2022-11-07 10:55:36.774808')\n",
      "2022-11-07 11:17:35,923 INFO sqlalchemy.engine.Engine INSERT INTO played_list (played_at, timestamps, artist_name, song_name, date_created) VALUES (?, ?, ?, ?, ?)\n",
      "2022-11-07 11:17:35,924 INFO sqlalchemy.engine.Engine [cached since 1277s ago] ('2022-11-07 12:00:07.000000', '2022-11-07', 'La Joaqui', 'Butakera', '2022-11-07 10:55:36.774808')\n",
      "2022-11-07 11:17:35,925 INFO sqlalchemy.engine.Engine COMMIT\n"
     ]
    }
   ],
   "source": [
    "# Declarate session\n",
    "Session = sessionmaker()\n",
    "local_session = Session(bind = engine)\n",
    "\n",
    "# Loading de data\n",
    "for i in song_df.values:\n",
    "    print(i)\n",
    "    song = Played_list(\n",
    "                            played_at = conver_played_at_to_datetime(i[0]),\n",
    "                            timestamps = datetime.datetime.strptime(i[1],\"%Y-%m-%d\").date(),\n",
    "                            artist_name = i[2],\n",
    "                            song_name = i[3]\n",
    "                     )\n",
    "\n",
    "    local_session.add(song)\n",
    "local_session.commit()"
   ]
  }
 ],
 "metadata": {
  "interpreter": {
   "hash": "89e0abca33cf4a51fed40e84035a9d07b9b47798c9ddd5755346d755ba15d037"
  },
  "kernelspec": {
   "display_name": "Python 3.10.2 64-bit",
   "language": "python",
   "name": "python3"
  },
  "language_info": {
   "codemirror_mode": {
    "name": "ipython",
    "version": 3
   },
   "file_extension": ".py",
   "mimetype": "text/x-python",
   "name": "python",
   "nbconvert_exporter": "python",
   "pygments_lexer": "ipython3",
   "version": "3.10.2"
  },
  "orig_nbformat": 4
 },
 "nbformat": 4,
 "nbformat_minor": 2
}
